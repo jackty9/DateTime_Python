{
  "nbformat": 4,
  "nbformat_minor": 0,
  "metadata": {
    "colab": {
      "name": "Working with DateTime in Python.ipynb",
      "provenance": []
    },
    "kernelspec": {
      "name": "python3",
      "display_name": "Python 3"
    },
    "language_info": {
      "name": "python"
    }
  },
  "cells": [
    {
      "cell_type": "markdown",
      "metadata": {
        "id": "E8yXXp4sEsAL"
      },
      "source": [
        "# 1 Converting strings to DateTime"
      ]
    },
    {
      "cell_type": "code",
      "metadata": {
        "colab": {
          "base_uri": "https://localhost:8080/",
          "height": 202
        },
        "id": "jOn3jEQ_ExhO",
        "outputId": "cb216056-0171-43c0-9cd0-7ce3d64f89a0"
      },
      "source": [
        "import pandas as pd\n",
        "\n",
        "#covert list of strings to datetime\n",
        "df1 = pd.DataFrame(\n",
        "     {\n",
        "      \"DateTime\": pd.to_datetime([\"2021-11-13 13:45:33\", '2021-11-14 14:13:25',\"2021-11-15 14:39:25\", \"2021-11-16 15:16:43\", \"2021-11-17 16:51:19\"]),\n",
        "     }\n",
        ")\n",
        "df1\n"
      ],
      "execution_count": null,
      "outputs": [
        {
          "output_type": "execute_result",
          "data": {
            "text/html": [
              "<div>\n",
              "<style scoped>\n",
              "    .dataframe tbody tr th:only-of-type {\n",
              "        vertical-align: middle;\n",
              "    }\n",
              "\n",
              "    .dataframe tbody tr th {\n",
              "        vertical-align: top;\n",
              "    }\n",
              "\n",
              "    .dataframe thead th {\n",
              "        text-align: right;\n",
              "    }\n",
              "</style>\n",
              "<table border=\"1\" class=\"dataframe\">\n",
              "  <thead>\n",
              "    <tr style=\"text-align: right;\">\n",
              "      <th></th>\n",
              "      <th>DateTime</th>\n",
              "    </tr>\n",
              "  </thead>\n",
              "  <tbody>\n",
              "    <tr>\n",
              "      <th>0</th>\n",
              "      <td>2021-11-13 13:45:33</td>\n",
              "    </tr>\n",
              "    <tr>\n",
              "      <th>1</th>\n",
              "      <td>2021-11-14 14:13:25</td>\n",
              "    </tr>\n",
              "    <tr>\n",
              "      <th>2</th>\n",
              "      <td>2021-11-15 14:39:25</td>\n",
              "    </tr>\n",
              "    <tr>\n",
              "      <th>3</th>\n",
              "      <td>2021-11-16 15:16:43</td>\n",
              "    </tr>\n",
              "    <tr>\n",
              "      <th>4</th>\n",
              "      <td>2021-11-17 16:51:19</td>\n",
              "    </tr>\n",
              "  </tbody>\n",
              "</table>\n",
              "</div>"
            ],
            "text/plain": [
              "             DateTime\n",
              "0 2021-11-13 13:45:33\n",
              "1 2021-11-14 14:13:25\n",
              "2 2021-11-15 14:39:25\n",
              "3 2021-11-16 15:16:43\n",
              "4 2021-11-17 16:51:19"
            ]
          },
          "metadata": {},
          "execution_count": 24
        }
      ]
    },
    {
      "cell_type": "code",
      "metadata": {
        "colab": {
          "base_uri": "https://localhost:8080/",
          "height": 202
        },
        "id": "l3ty_-fFNhq0",
        "outputId": "66428a07-359e-4da3-b46d-eeec10035383"
      },
      "source": [
        "#import pandas as pd\n",
        "import datetime as dt\n",
        "\n",
        "#split a datetime column into individual date and time columns\n",
        "df1['Dates'] = pd.to_datetime(df1['DateTime']).dt.date\n",
        "df1['Time'] = pd.to_datetime(df1['DateTime']).dt.time\n",
        "df1"
      ],
      "execution_count": null,
      "outputs": [
        {
          "output_type": "execute_result",
          "data": {
            "text/html": [
              "<div>\n",
              "<style scoped>\n",
              "    .dataframe tbody tr th:only-of-type {\n",
              "        vertical-align: middle;\n",
              "    }\n",
              "\n",
              "    .dataframe tbody tr th {\n",
              "        vertical-align: top;\n",
              "    }\n",
              "\n",
              "    .dataframe thead th {\n",
              "        text-align: right;\n",
              "    }\n",
              "</style>\n",
              "<table border=\"1\" class=\"dataframe\">\n",
              "  <thead>\n",
              "    <tr style=\"text-align: right;\">\n",
              "      <th></th>\n",
              "      <th>DateTime</th>\n",
              "      <th>Dates</th>\n",
              "      <th>Time</th>\n",
              "    </tr>\n",
              "  </thead>\n",
              "  <tbody>\n",
              "    <tr>\n",
              "      <th>0</th>\n",
              "      <td>2021-11-13 13:45:33</td>\n",
              "      <td>2021-11-13</td>\n",
              "      <td>13:45:33</td>\n",
              "    </tr>\n",
              "    <tr>\n",
              "      <th>1</th>\n",
              "      <td>2021-11-14 14:13:25</td>\n",
              "      <td>2021-11-14</td>\n",
              "      <td>14:13:25</td>\n",
              "    </tr>\n",
              "    <tr>\n",
              "      <th>2</th>\n",
              "      <td>2021-11-15 14:39:25</td>\n",
              "      <td>2021-11-15</td>\n",
              "      <td>14:39:25</td>\n",
              "    </tr>\n",
              "    <tr>\n",
              "      <th>3</th>\n",
              "      <td>2021-11-16 15:16:43</td>\n",
              "      <td>2021-11-16</td>\n",
              "      <td>15:16:43</td>\n",
              "    </tr>\n",
              "    <tr>\n",
              "      <th>4</th>\n",
              "      <td>2021-11-17 16:51:19</td>\n",
              "      <td>2021-11-17</td>\n",
              "      <td>16:51:19</td>\n",
              "    </tr>\n",
              "  </tbody>\n",
              "</table>\n",
              "</div>"
            ],
            "text/plain": [
              "             DateTime       Dates      Time\n",
              "0 2021-11-13 13:45:33  2021-11-13  13:45:33\n",
              "1 2021-11-14 14:13:25  2021-11-14  14:13:25\n",
              "2 2021-11-15 14:39:25  2021-11-15  14:39:25\n",
              "3 2021-11-16 15:16:43  2021-11-16  15:16:43\n",
              "4 2021-11-17 16:51:19  2021-11-17  16:51:19"
            ]
          },
          "metadata": {},
          "execution_count": 26
        }
      ]
    },
    {
      "cell_type": "code",
      "metadata": {
        "colab": {
          "base_uri": "https://localhost:8080/",
          "height": 202
        },
        "id": "4ApQIAwnJBh4",
        "outputId": "cf1d6e89-82bc-481b-e5ad-3a9eb7209484"
      },
      "source": [
        "#join date and time column into a single datetime column \n",
        "df1['DateTime_join'] = pd.DataFrame(pd.to_datetime(df1['Dates'].astype(str) + ' ' + df1['Time'].astype(str)), columns=['Datetime_join']) \n",
        "df1"
      ],
      "execution_count": null,
      "outputs": [
        {
          "output_type": "execute_result",
          "data": {
            "text/html": [
              "<div>\n",
              "<style scoped>\n",
              "    .dataframe tbody tr th:only-of-type {\n",
              "        vertical-align: middle;\n",
              "    }\n",
              "\n",
              "    .dataframe tbody tr th {\n",
              "        vertical-align: top;\n",
              "    }\n",
              "\n",
              "    .dataframe thead th {\n",
              "        text-align: right;\n",
              "    }\n",
              "</style>\n",
              "<table border=\"1\" class=\"dataframe\">\n",
              "  <thead>\n",
              "    <tr style=\"text-align: right;\">\n",
              "      <th></th>\n",
              "      <th>DateTime</th>\n",
              "      <th>Dates</th>\n",
              "      <th>Time</th>\n",
              "      <th>DateTime_join</th>\n",
              "    </tr>\n",
              "  </thead>\n",
              "  <tbody>\n",
              "    <tr>\n",
              "      <th>0</th>\n",
              "      <td>2021-11-13 13:45:33</td>\n",
              "      <td>2021-11-13</td>\n",
              "      <td>13:45:33</td>\n",
              "      <td>2021-11-13 13:45:33</td>\n",
              "    </tr>\n",
              "    <tr>\n",
              "      <th>1</th>\n",
              "      <td>2021-11-14 14:13:25</td>\n",
              "      <td>2021-11-14</td>\n",
              "      <td>14:13:25</td>\n",
              "      <td>2021-11-14 14:13:25</td>\n",
              "    </tr>\n",
              "    <tr>\n",
              "      <th>2</th>\n",
              "      <td>2021-11-15 14:39:25</td>\n",
              "      <td>2021-11-15</td>\n",
              "      <td>14:39:25</td>\n",
              "      <td>2021-11-15 14:39:25</td>\n",
              "    </tr>\n",
              "    <tr>\n",
              "      <th>3</th>\n",
              "      <td>2021-11-16 15:16:43</td>\n",
              "      <td>2021-11-16</td>\n",
              "      <td>15:16:43</td>\n",
              "      <td>2021-11-16 15:16:43</td>\n",
              "    </tr>\n",
              "    <tr>\n",
              "      <th>4</th>\n",
              "      <td>2021-11-17 16:51:19</td>\n",
              "      <td>2021-11-17</td>\n",
              "      <td>16:51:19</td>\n",
              "      <td>2021-11-17 16:51:19</td>\n",
              "    </tr>\n",
              "  </tbody>\n",
              "</table>\n",
              "</div>"
            ],
            "text/plain": [
              "             DateTime       Dates      Time       DateTime_join\n",
              "0 2021-11-13 13:45:33  2021-11-13  13:45:33 2021-11-13 13:45:33\n",
              "1 2021-11-14 14:13:25  2021-11-14  14:13:25 2021-11-14 14:13:25\n",
              "2 2021-11-15 14:39:25  2021-11-15  14:39:25 2021-11-15 14:39:25\n",
              "3 2021-11-16 15:16:43  2021-11-16  15:16:43 2021-11-16 15:16:43\n",
              "4 2021-11-17 16:51:19  2021-11-17  16:51:19 2021-11-17 16:51:19"
            ]
          },
          "metadata": {},
          "execution_count": 29
        }
      ]
    },
    {
      "cell_type": "markdown",
      "metadata": {
        "id": "gm4KecLxvfMD"
      },
      "source": [
        "#2. Working with Timezone"
      ]
    },
    {
      "cell_type": "code",
      "metadata": {
        "colab": {
          "base_uri": "https://localhost:8080/"
        },
        "id": "qOcOje57_A8a",
        "outputId": "bc89594d-5390-4f37-abb5-2cb392c978d6"
      },
      "source": [
        "import pandas as pd\n",
        "from datetime import datetime\n",
        "import pytz, tzlocal\n",
        "\n",
        "#convert a aware datetime to naive datetime\n",
        "dt_aware = pd.to_datetime('2021-11-26T11:04:30+02:00')\n",
        "germany = pytz.timezone(\"Europe/Berlin\")\n",
        "\n",
        "dt_naive = dt_aware.astimezone(germany).replace(tzinfo=None)\n",
        "print(dt_naive)"
      ],
      "execution_count": null,
      "outputs": [
        {
          "output_type": "stream",
          "name": "stdout",
          "text": [
            "2021-11-26 10:04:30\n"
          ]
        }
      ]
    },
    {
      "cell_type": "code",
      "metadata": {
        "colab": {
          "base_uri": "https://localhost:8080/"
        },
        "id": "UU-IG4OvBsYi",
        "outputId": "0c56a8c6-a625-4d8c-dfab-90a9e83bc90a"
      },
      "source": [
        "#convert a naive datetime to an aware datetime\n",
        "dt_naive = pd.to_datetime('2021-11-27T12:24:30')\n",
        "japan = pytz.timezone(\"Asia/Tokyo\")\n",
        "dt_aware = dt_naive.tz_localize(japan)\n",
        "print(dt_aware)"
      ],
      "execution_count": null,
      "outputs": [
        {
          "output_type": "stream",
          "name": "stdout",
          "text": [
            "2021-11-27 12:24:30+09:00\n"
          ]
        }
      ]
    },
    {
      "cell_type": "code",
      "metadata": {
        "colab": {
          "base_uri": "https://localhost:8080/"
        },
        "id": "UrCwThsz-CGE",
        "outputId": "bd01e297-6fc8-484c-f6be-72659305b84c"
      },
      "source": [
        "import tzlocal\n",
        "\n",
        "#convert a aware datetime to local naive timezone (in Google Colab the local timezone is utc )\n",
        "dt_aware = pd.to_datetime('2021-11-28T11:04:30+02:00')\n",
        "local_timezone = tzlocal.get_localzone()\n",
        "dt_local = dt_aware.astimezone(local_timezone).replace(tzinfo=None)\n",
        "print(dt_local)"
      ],
      "execution_count": null,
      "outputs": [
        {
          "output_type": "stream",
          "name": "stdout",
          "text": [
            "2021-11-28 09:04:30\n"
          ]
        }
      ]
    },
    {
      "cell_type": "markdown",
      "metadata": {
        "id": "Y3KSDWIiHDg3"
      },
      "source": [
        "#3. Conditionally compare two DateTime(s)"
      ]
    },
    {
      "cell_type": "code",
      "metadata": {
        "id": "VSGq8WuzEga-",
        "colab": {
          "base_uri": "https://localhost:8080/",
          "height": 206
        },
        "outputId": "deed46b8-94f6-4148-9232-87aa728f5d8f"
      },
      "source": [
        "import pandas as pd\n",
        "import datetime\n",
        "\n",
        "df1 = pd.DataFrame(\n",
        "    pd.to_datetime([\"13:45:33\", '14:17:25',\"14:13:25\", \"15:16:43\", \"16:51:19\"]),\n",
        "    columns=[\"MsgTime\"],\n",
        ")\n",
        "\n",
        "df1"
      ],
      "execution_count": 37,
      "outputs": [
        {
          "output_type": "execute_result",
          "data": {
            "text/html": [
              "<div>\n",
              "<style scoped>\n",
              "    .dataframe tbody tr th:only-of-type {\n",
              "        vertical-align: middle;\n",
              "    }\n",
              "\n",
              "    .dataframe tbody tr th {\n",
              "        vertical-align: top;\n",
              "    }\n",
              "\n",
              "    .dataframe thead th {\n",
              "        text-align: right;\n",
              "    }\n",
              "</style>\n",
              "<table border=\"1\" class=\"dataframe\">\n",
              "  <thead>\n",
              "    <tr style=\"text-align: right;\">\n",
              "      <th></th>\n",
              "      <th>MsgTime</th>\n",
              "    </tr>\n",
              "  </thead>\n",
              "  <tbody>\n",
              "    <tr>\n",
              "      <th>0</th>\n",
              "      <td>2021-12-12 13:45:33</td>\n",
              "    </tr>\n",
              "    <tr>\n",
              "      <th>1</th>\n",
              "      <td>2021-12-12 14:17:25</td>\n",
              "    </tr>\n",
              "    <tr>\n",
              "      <th>2</th>\n",
              "      <td>2021-12-12 14:13:25</td>\n",
              "    </tr>\n",
              "    <tr>\n",
              "      <th>3</th>\n",
              "      <td>2021-12-12 15:16:43</td>\n",
              "    </tr>\n",
              "    <tr>\n",
              "      <th>4</th>\n",
              "      <td>2021-12-12 16:51:19</td>\n",
              "    </tr>\n",
              "  </tbody>\n",
              "</table>\n",
              "</div>"
            ],
            "text/plain": [
              "              MsgTime\n",
              "0 2021-12-12 13:45:33\n",
              "1 2021-12-12 14:17:25\n",
              "2 2021-12-12 14:13:25\n",
              "3 2021-12-12 15:16:43\n",
              "4 2021-12-12 16:51:19"
            ]
          },
          "metadata": {},
          "execution_count": 37
        }
      ]
    },
    {
      "cell_type": "code",
      "metadata": {
        "colab": {
          "base_uri": "https://localhost:8080/",
          "height": 143
        },
        "id": "8aydhr9k2zWG",
        "outputId": "00d5118d-47c8-46cc-e4dc-136f367caf6e"
      },
      "source": [
        "df2 = pd.DataFrame(\n",
        "    {\n",
        "        \"MsgTime1\": pd.to_datetime([\"13:40:33\", \"14:16:43\", \"16:49:11\"]),\n",
        "        \"MsgTime2\": pd.to_datetime([\"13:50:13\", \"14:26:43\", \"16:59:02\"]),\n",
        "        \"Temperature\":[21,22,32],\n",
        "        \"Humidity\":[45,56,40],\n",
        "    }\n",
        ")\n",
        "df2"
      ],
      "execution_count": 38,
      "outputs": [
        {
          "output_type": "execute_result",
          "data": {
            "text/html": [
              "<div>\n",
              "<style scoped>\n",
              "    .dataframe tbody tr th:only-of-type {\n",
              "        vertical-align: middle;\n",
              "    }\n",
              "\n",
              "    .dataframe tbody tr th {\n",
              "        vertical-align: top;\n",
              "    }\n",
              "\n",
              "    .dataframe thead th {\n",
              "        text-align: right;\n",
              "    }\n",
              "</style>\n",
              "<table border=\"1\" class=\"dataframe\">\n",
              "  <thead>\n",
              "    <tr style=\"text-align: right;\">\n",
              "      <th></th>\n",
              "      <th>MsgTime1</th>\n",
              "      <th>MsgTime2</th>\n",
              "      <th>Temperature</th>\n",
              "      <th>Humidity</th>\n",
              "    </tr>\n",
              "  </thead>\n",
              "  <tbody>\n",
              "    <tr>\n",
              "      <th>0</th>\n",
              "      <td>2021-12-12 13:40:33</td>\n",
              "      <td>2021-12-12 13:50:13</td>\n",
              "      <td>21</td>\n",
              "      <td>45</td>\n",
              "    </tr>\n",
              "    <tr>\n",
              "      <th>1</th>\n",
              "      <td>2021-12-12 14:16:43</td>\n",
              "      <td>2021-12-12 14:26:43</td>\n",
              "      <td>22</td>\n",
              "      <td>56</td>\n",
              "    </tr>\n",
              "    <tr>\n",
              "      <th>2</th>\n",
              "      <td>2021-12-12 16:49:11</td>\n",
              "      <td>2021-12-12 16:59:02</td>\n",
              "      <td>32</td>\n",
              "      <td>40</td>\n",
              "    </tr>\n",
              "  </tbody>\n",
              "</table>\n",
              "</div>"
            ],
            "text/plain": [
              "             MsgTime1            MsgTime2  Temperature  Humidity\n",
              "0 2021-12-12 13:40:33 2021-12-12 13:50:13           21        45\n",
              "1 2021-12-12 14:16:43 2021-12-12 14:26:43           22        56\n",
              "2 2021-12-12 16:49:11 2021-12-12 16:59:02           32        40"
            ]
          },
          "metadata": {},
          "execution_count": 38
        }
      ]
    },
    {
      "cell_type": "code",
      "metadata": {
        "colab": {
          "base_uri": "https://localhost:8080/",
          "height": 143
        },
        "id": "erqxIpVJ8JE-",
        "outputId": "f3efaf7c-4091-448e-f245-5b4feb38c7a7"
      },
      "source": [
        "df2.index = df2[[\"MsgTime1\", \"MsgTime2\"]].apply(lambda x: pd.Interval(*pd.to_datetime(x)), axis=1)\n",
        "df2"
      ],
      "execution_count": 40,
      "outputs": [
        {
          "output_type": "execute_result",
          "data": {
            "text/html": [
              "<div>\n",
              "<style scoped>\n",
              "    .dataframe tbody tr th:only-of-type {\n",
              "        vertical-align: middle;\n",
              "    }\n",
              "\n",
              "    .dataframe tbody tr th {\n",
              "        vertical-align: top;\n",
              "    }\n",
              "\n",
              "    .dataframe thead th {\n",
              "        text-align: right;\n",
              "    }\n",
              "</style>\n",
              "<table border=\"1\" class=\"dataframe\">\n",
              "  <thead>\n",
              "    <tr style=\"text-align: right;\">\n",
              "      <th></th>\n",
              "      <th>MsgTime1</th>\n",
              "      <th>MsgTime2</th>\n",
              "      <th>Temperature</th>\n",
              "      <th>Humidity</th>\n",
              "    </tr>\n",
              "  </thead>\n",
              "  <tbody>\n",
              "    <tr>\n",
              "      <th>(2021-12-12 13:40:33, 2021-12-12 13:50:13]</th>\n",
              "      <td>2021-12-12 13:40:33</td>\n",
              "      <td>2021-12-12 13:50:13</td>\n",
              "      <td>21</td>\n",
              "      <td>45</td>\n",
              "    </tr>\n",
              "    <tr>\n",
              "      <th>(2021-12-12 14:16:43, 2021-12-12 14:26:43]</th>\n",
              "      <td>2021-12-12 14:16:43</td>\n",
              "      <td>2021-12-12 14:26:43</td>\n",
              "      <td>22</td>\n",
              "      <td>56</td>\n",
              "    </tr>\n",
              "    <tr>\n",
              "      <th>(2021-12-12 16:49:11, 2021-12-12 16:59:02]</th>\n",
              "      <td>2021-12-12 16:49:11</td>\n",
              "      <td>2021-12-12 16:59:02</td>\n",
              "      <td>32</td>\n",
              "      <td>40</td>\n",
              "    </tr>\n",
              "  </tbody>\n",
              "</table>\n",
              "</div>"
            ],
            "text/plain": [
              "                                                      MsgTime1  ... Humidity\n",
              "(2021-12-12 13:40:33, 2021-12-12 13:50:13] 2021-12-12 13:40:33  ...       45\n",
              "(2021-12-12 14:16:43, 2021-12-12 14:26:43] 2021-12-12 14:16:43  ...       56\n",
              "(2021-12-12 16:49:11, 2021-12-12 16:59:02] 2021-12-12 16:49:11  ...       40\n",
              "\n",
              "[3 rows x 4 columns]"
            ]
          },
          "metadata": {},
          "execution_count": 40
        }
      ]
    },
    {
      "cell_type": "code",
      "metadata": {
        "colab": {
          "base_uri": "https://localhost:8080/",
          "height": 206
        },
        "id": "uCBuKOC0T57F",
        "outputId": "1c82c6de-9a90-4696-a2fd-1030ea37a269"
      },
      "source": [
        "for j in [\"Temperature\", \"Humidity\"]:\n",
        "    df1[j] = df1[\"MsgTime\"].map(df2[j])\n",
        "df1"
      ],
      "execution_count": 41,
      "outputs": [
        {
          "output_type": "execute_result",
          "data": {
            "text/html": [
              "<div>\n",
              "<style scoped>\n",
              "    .dataframe tbody tr th:only-of-type {\n",
              "        vertical-align: middle;\n",
              "    }\n",
              "\n",
              "    .dataframe tbody tr th {\n",
              "        vertical-align: top;\n",
              "    }\n",
              "\n",
              "    .dataframe thead th {\n",
              "        text-align: right;\n",
              "    }\n",
              "</style>\n",
              "<table border=\"1\" class=\"dataframe\">\n",
              "  <thead>\n",
              "    <tr style=\"text-align: right;\">\n",
              "      <th></th>\n",
              "      <th>MsgTime</th>\n",
              "      <th>Temperature</th>\n",
              "      <th>Humidity</th>\n",
              "    </tr>\n",
              "  </thead>\n",
              "  <tbody>\n",
              "    <tr>\n",
              "      <th>0</th>\n",
              "      <td>2021-12-12 13:45:33</td>\n",
              "      <td>21.0</td>\n",
              "      <td>45.0</td>\n",
              "    </tr>\n",
              "    <tr>\n",
              "      <th>1</th>\n",
              "      <td>2021-12-12 14:17:25</td>\n",
              "      <td>22.0</td>\n",
              "      <td>56.0</td>\n",
              "    </tr>\n",
              "    <tr>\n",
              "      <th>2</th>\n",
              "      <td>2021-12-12 14:13:25</td>\n",
              "      <td>NaN</td>\n",
              "      <td>NaN</td>\n",
              "    </tr>\n",
              "    <tr>\n",
              "      <th>3</th>\n",
              "      <td>2021-12-12 15:16:43</td>\n",
              "      <td>NaN</td>\n",
              "      <td>NaN</td>\n",
              "    </tr>\n",
              "    <tr>\n",
              "      <th>4</th>\n",
              "      <td>2021-12-12 16:51:19</td>\n",
              "      <td>32.0</td>\n",
              "      <td>40.0</td>\n",
              "    </tr>\n",
              "  </tbody>\n",
              "</table>\n",
              "</div>"
            ],
            "text/plain": [
              "              MsgTime  Temperature  Humidity\n",
              "0 2021-12-12 13:45:33         21.0      45.0\n",
              "1 2021-12-12 14:17:25         22.0      56.0\n",
              "2 2021-12-12 14:13:25          NaN       NaN\n",
              "3 2021-12-12 15:16:43          NaN       NaN\n",
              "4 2021-12-12 16:51:19         32.0      40.0"
            ]
          },
          "metadata": {},
          "execution_count": 41
        }
      ]
    }
  ]
}